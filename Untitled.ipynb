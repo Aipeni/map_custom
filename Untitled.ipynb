{
 "cells": [
  {
   "cell_type": "markdown",
   "id": "3ebf7c18",
   "metadata": {},
   "source": [
    "## first try to play around with the google map api\n",
    "\n",
    "## objectives : create a map api that can extract information for living (eg  restaurant nearby/cinema/safety) within certain parameters\n",
    "\n",
    "### try to create a function that takes name/coordination and distances and visualize anything nearby\n",
    "- get the information of nearby locations eg cinema,gym,restaurant ✓\n",
    "- visualize  data on map ✓\n",
    "- get safety indicator in the map ✓\n",
    "- the crime indicator needs to have more data, try to read all the crime data to create a 12 month crime so i can create a scaler to show which street is dangous ✓\n",
    "- now that i have all the 10 past years data, it shows crime in almost all of the street, so I need to narrow the searches to provide more useful information. If crime is everywhere maybe i need to focus only on frequent area in a spot so the map can provide useful information\n",
    "\n",
    "### create a references of the safety of the objective area againist the entire city to see  if it is relatively dangous. I can do that by filling the distances of each crime spot and the objectives. And also update the crime spot so that it only provide crime spot of the certain area ✓\n",
    "\n",
    "### add multiple interested location ✓\n",
    "\n",
    "### keep the api key safe ✓\n",
    "\n",
    "### NLP analysis objectives\n",
    "- switch to outscraper to extract full information of reviews ✓\n",
    "- check if the place might have water army?\n",
    "- extract the most related \n",
    "- use sentiment analysis to analysis the score rather than using google score\n",
    "> NLTK\n",
    "\n",
    "\n",
    "### Create an objective concentration searches with in the area\n",
    "- search the number of objectives within certain area ✓\n",
    "\n",
    "## alternative objectives \n",
    "\n",
    "- choose different ways to present safety? for example use formula to measure the color of the area?\n",
    "\n",
    "- get the area indication by radius?( eg when i put the lat,lng and radius it will shows the area around the lat,lng)\n",
    "\n",
    "- I have got the crime indicators working. the logic is to measure the crime within certain km and compare against the city centre, but maybe I can choose a better references?\n",
    "\n",
    "- also the crime data using here is static and I might need to update it soon\n",
    "\n",
    "- can I add a checker for others to screen the area that they might be interested to? maybe the easiest way to do this is to add a true false indicators so users can quickly scan their objectives?\n",
    "\n",
    "- need to fix the appearances of markdown and the map"
   ]
  },
  {
   "cell_type": "markdown",
   "id": "fd042c5f",
   "metadata": {},
   "source": [
    "Tech Issue to solve: \n",
    "1. git pull from 2 computer ignore all local changes ✓\n",
    "    >I need to stash it and drop it \n",
    "    - git stash\n",
    "    - git stash drop\n",
    "    - pnenv local \n",
    "2. how to store the api key safely ✓  \n",
    "-  I added the api_key  in the gitignore  directory so the key will not be updated to github\n",
    "3. read directory in os and filter it ✓ "
   ]
  },
  {
   "cell_type": "markdown",
   "id": "a63d9b2b",
   "metadata": {},
   "source": [
    "Appearances:\n",
    "- restaurant rating should have different color to classify\n",
    "- different kind of objective should have different color\n",
    "- can I get a bigger circle if the rating is higher"
   ]
  },
  {
   "cell_type": "code",
   "execution_count": 1,
   "id": "ee9a117a",
   "metadata": {},
   "outputs": [],
   "source": [
    "import pandas as pd\n",
    "import time\n",
    "import googlemaps\n",
    "from datetime import datetime\n",
    "import raw_data.api_lib as api_lib\n",
    "import numpy as np\n",
    "import os \n",
    "import folium\n",
    "from folium import plugins\n",
    "import rioxarray as rxr\n",
    "import earthpy as et\n",
    "import earthpy.spatial as es\n",
    "from outscraper import ApiClient\n",
    "import geopy.distance\n",
    "\n"
   ]
  },
  {
   "cell_type": "code",
   "execution_count": 2,
   "id": "ae51464c",
   "metadata": {},
   "outputs": [],
   "source": [
    "def calculateDistance(x1,y1,x2,y2):\n",
    "    coords_1,coords_2=(x1,y1),(x2,y2)    \n",
    "    dist=geopy.distance.geodesic(coords_1, coords_2).km\n",
    "    return dist"
   ]
  },
  {
   "cell_type": "code",
   "execution_count": 3,
   "id": "d448cc7c",
   "metadata": {},
   "outputs": [],
   "source": [
    "def miles_to_meters(miles):\n",
    "    try:\n",
    "        return miles * 1_609.344\n",
    "    except:\n",
    "        return 0"
   ]
  },
  {
   "cell_type": "code",
   "execution_count": 4,
   "id": "3ea91664",
   "metadata": {},
   "outputs": [],
   "source": [
    "def get_lag_lng(address):\n",
    "    API_KEY = api_lib.keys\n",
    "    map_client = googlemaps.Client(API_KEY)\n",
    "\n",
    "    address = address\n",
    "    geocode = map_client.geocode(address=address)\n",
    "    (lat, lng) = map(geocode[0]['geometry']['location'].get, ('lat', 'lng'))\n",
    "    return lat,lng"
   ]
  },
  {
   "cell_type": "code",
   "execution_count": 5,
   "id": "f05ac0fb",
   "metadata": {},
   "outputs": [],
   "source": [
    "def check_a_word_in_string(the_lists):\n",
    "    color_list={'restaurant':'orange','gym':'white','movie_theater':'green'}\n",
    "    for i in the_lists:\n",
    "        if i in color_list.keys():\n",
    "            return color_list[i]\n",
    "    return 'gray'"
   ]
  },
  {
   "cell_type": "code",
   "execution_count": 6,
   "id": "0ab5b72b",
   "metadata": {},
   "outputs": [],
   "source": [
    "def get_nearby_objectives(address,objectives,radius):\n",
    "    API_KEY = api_lib.keys\n",
    "    map_client = googlemaps.Client(API_KEY)\n",
    "\n",
    "    address = address\n",
    "    geocode = map_client.geocode(address=address)\n",
    "    (lat, lng) = map(geocode[0]['geometry']['location'].get, ('lat', 'lng'))\n",
    "\n",
    "\n",
    "    search_string = objectives\n",
    "    distance = miles_to_meters(radius)\n",
    "    business_list = []\n",
    "\n",
    "    response = map_client.places_nearby(\n",
    "    location=(lat, lng),\n",
    "    keyword=search_string,\n",
    "    radius=distance\n",
    "    )   \n",
    "\n",
    "    business_list.extend(response.get('results'))\n",
    "    next_page_token = response.get('next_page_token')\n",
    "\n",
    "    while next_page_token:\n",
    "        time.sleep(2)\n",
    "        response = map_client.places_nearby(\n",
    "            location=(lat, lng),\n",
    "            keyword=search_string,\n",
    "            radius=distance,\n",
    "            page_token=next_page_token\n",
    "        )   \n",
    "        business_list.extend(response.get('results'))\n",
    "        next_page_token = response.get('next_page_token')\n",
    "\n",
    "    df = pd.DataFrame(business_list)\n",
    "    df['url'] = 'https://www.google.com/maps/place/?q=place_id:' + df['place_id']\n",
    "    return df"
   ]
  },
  {
   "cell_type": "code",
   "execution_count": 7,
   "id": "1928ec5e",
   "metadata": {},
   "outputs": [],
   "source": [
    "def show_address_on_map(address,zoom=30):\n",
    "    lat,lng=get_lag_lng(address)\n",
    "    m = folium.Map(location=[lat,lng],zoom_start=zoom)\n",
    "    folium.Marker(\n",
    "        location=[lat, lng], # coordinates for the marker (Earth Lab at CU Boulder)\n",
    "        popup='you are here', # pop-up label for the marker\n",
    "        icon=folium.Icon()\n",
    "    ).add_to(m)\n",
    "    return m"
   ]
  },
  {
   "cell_type": "code",
   "execution_count": 8,
   "id": "ed663537",
   "metadata": {},
   "outputs": [],
   "source": [
    "def get_clean_crime_data(address):\n",
    "    df=pd.read_csv('data_references/2022-03-south-yorkshire-outcomes.csv')\n",
    "    df.dropna(axis=0,inplace=True)\n",
    "    lat,lng=get_lag_lng(address)\n",
    "    df['distances']=np.vectorize(calculateDistance)(lng,lat,df.Longitude,df.Latitude)\n",
    "    return df"
   ]
  },
  {
   "cell_type": "code",
   "execution_count": 9,
   "id": "743fc0f8",
   "metadata": {},
   "outputs": [],
   "source": [
    "def get_last_year_crime_data(address,shire='south-yorkshire',month=3):\n",
    "    directory=os.path.join('data_references/crime_data/')\n",
    "    df=pd.DataFrame()\n",
    "    new_list=[]\n",
    "    for i in os.listdir(directory):\n",
    "        new_list.append(int(i.replace('-','')))\n",
    "    final_list=[]\n",
    "    for i in new_list[-month:]:\n",
    "        final_list.append(f'{str(i)[:4]}-{str(i)[-2:]}')\n",
    "    for a in final_list:\n",
    "        for i in os.listdir(os.path.join(directory,a)):\n",
    "            if 'outcome' not in i and 'south-yorkshire' in i and 'stop' not in i and 'Zone' not in i:\n",
    "                df1=pd.read_csv(f'data_references/crime_data/{a}/{i}')\n",
    "                df=pd.concat([df,df1])\n",
    "    lat,lng=get_lag_lng(address)\n",
    "    df=df[['Crime ID','Longitude','Latitude','Crime type']]\n",
    "    df.dropna(axis=0,inplace=True)\n",
    "    df['distances']=np.vectorize(calculateDistance)(lng,lat,df.Longitude,df.Latitude)\n",
    "    return df"
   ]
  },
  {
   "cell_type": "code",
   "execution_count": 10,
   "id": "4f5251c7",
   "metadata": {},
   "outputs": [],
   "source": [
    "def compare_against_references(address,references='city centre,sheffield,united kingdom',search_area=0.2):\n",
    "    df1=get_clean_df(address)\n",
    "    n_crime_address=df1[df1['distances']<search_area].nunique().distances\n",
    "    df2=get_clean_df(references)\n",
    "    n_crime_references=df2[df2['distances']<search_area].nunique().distances\n",
    "    print(f'number of crime around your address is :{n_crime_address} and the number of crime in the references area is :{n_crime_references}' )\n",
    "    return n_crime_address,n_crime_references"
   ]
  },
  {
   "cell_type": "code",
   "execution_count": 11,
   "id": "712888f2",
   "metadata": {},
   "outputs": [],
   "source": [
    "def get_clean_objective_data(address,objective,radius=5):\n",
    "    df=get_nearby_objectives(address,objective,radius)\n",
    "    def nearby_objectives_lat_lon(value):\n",
    "        lat=value['location']['lat']\n",
    "        lon=value['location']['lng']\n",
    "        return lat,lon\n",
    "\n",
    "    df['lat'],df['lon']=np.vectorize(nearby_objectives_lat_lon)(df['geometry'])\n",
    "    return df"
   ]
  },
  {
   "cell_type": "code",
   "execution_count": 12,
   "id": "97bcee07",
   "metadata": {},
   "outputs": [],
   "source": [
    "def show_crime_objectives(address,objectives,search_area=1,radius=5):\n",
    "    incidents = folium.map.FeatureGroup()\n",
    "    map_shef=show_address_on_map(address,zoom=50)\n",
    "    df=get_last_year_crime_data(address)\n",
    "    df=df[df['distances']<search_area]\n",
    "    for lat, lng,distances,crime in zip(df.Latitude,df.Longitude,df.distances,df['Crime ID']):\n",
    "        incidents.add_child(\n",
    "        folium.features.CircleMarker(\n",
    "        [lat, lng],\n",
    "        radius=5, # define how big you want the circle markers to be\n",
    "        color='yellow',\n",
    "        popup=[distances,crime],\n",
    "        fill=True,\n",
    "        fill_color='blue',\n",
    "        fill_opacity=0.6\n",
    "        ))\n",
    "    for i in objectives:\n",
    "        df1=get_clean_objective_data(address,i,radius)\n",
    "        df1['color']=np.vectorize(check_a_word_in_string)(df1.types)\n",
    "        for lat,lng,name,color in zip(df1.lat,df1.lon,df1.name,df1.color):\n",
    "            incidents.add_child(\n",
    "            folium.features.CircleMarker(\n",
    "            [lat, lng],\n",
    "            radius=5, # define how big you want the circle markers to be\n",
    "            color=color,\n",
    "            popup=[name],\n",
    "            fill=True,\n",
    "            fill_color=color,\n",
    "            fill_opacity=0.6\n",
    "            ))                \n",
    "\n",
    "    return map_shef.add_child(incidents)"
   ]
  },
  {
   "cell_type": "code",
   "execution_count": 13,
   "id": "7d312a10",
   "metadata": {},
   "outputs": [
    {
     "ename": "FileNotFoundError",
     "evalue": "[Errno 2] No such file or directory: 'data_references/crime_data/'",
     "output_type": "error",
     "traceback": [
      "\u001b[0;31m---------------------------------------------------------------------------\u001b[0m",
      "\u001b[0;31mFileNotFoundError\u001b[0m                         Traceback (most recent call last)",
      "Input \u001b[0;32mIn [13]\u001b[0m, in \u001b[0;36m<cell line: 1>\u001b[0;34m()\u001b[0m\n\u001b[0;32m----> 1\u001b[0m \u001b[43mshow_crime_objectives\u001b[49m\u001b[43m(\u001b[49m\u001b[38;5;124;43m'\u001b[39;49m\u001b[38;5;124;43mwest one plaza 2,sheffield,united kingdom\u001b[39;49m\u001b[38;5;124;43m'\u001b[39;49m\u001b[43m,\u001b[49m\u001b[43m[\u001b[49m\u001b[38;5;124;43m'\u001b[39;49m\u001b[38;5;124;43mcinema\u001b[39;49m\u001b[38;5;124;43m'\u001b[39;49m\u001b[43m,\u001b[49m\u001b[38;5;124;43m'\u001b[39;49m\u001b[38;5;124;43mgym\u001b[39;49m\u001b[38;5;124;43m'\u001b[39;49m\u001b[43m,\u001b[49m\u001b[38;5;124;43m'\u001b[39;49m\u001b[38;5;124;43mkebab\u001b[39;49m\u001b[38;5;124;43m'\u001b[39;49m\u001b[43m]\u001b[49m\u001b[43m)\u001b[49m\n",
      "Input \u001b[0;32mIn [12]\u001b[0m, in \u001b[0;36mshow_crime_objectives\u001b[0;34m(address, objectives, search_area, radius)\u001b[0m\n\u001b[1;32m      2\u001b[0m incidents \u001b[38;5;241m=\u001b[39m folium\u001b[38;5;241m.\u001b[39mmap\u001b[38;5;241m.\u001b[39mFeatureGroup()\n\u001b[1;32m      3\u001b[0m map_shef\u001b[38;5;241m=\u001b[39mshow_address_on_map(address,zoom\u001b[38;5;241m=\u001b[39m\u001b[38;5;241m50\u001b[39m)\n\u001b[0;32m----> 4\u001b[0m df\u001b[38;5;241m=\u001b[39m\u001b[43mget_last_year_crime_data\u001b[49m\u001b[43m(\u001b[49m\u001b[43maddress\u001b[49m\u001b[43m)\u001b[49m\n\u001b[1;32m      5\u001b[0m df\u001b[38;5;241m=\u001b[39mdf[df[\u001b[38;5;124m'\u001b[39m\u001b[38;5;124mdistances\u001b[39m\u001b[38;5;124m'\u001b[39m]\u001b[38;5;241m<\u001b[39msearch_area]\n\u001b[1;32m      6\u001b[0m \u001b[38;5;28;01mfor\u001b[39;00m lat, lng,distances,crime \u001b[38;5;129;01min\u001b[39;00m \u001b[38;5;28mzip\u001b[39m(df\u001b[38;5;241m.\u001b[39mLatitude,df\u001b[38;5;241m.\u001b[39mLongitude,df\u001b[38;5;241m.\u001b[39mdistances,df[\u001b[38;5;124m'\u001b[39m\u001b[38;5;124mCrime ID\u001b[39m\u001b[38;5;124m'\u001b[39m]):\n",
      "Input \u001b[0;32mIn [9]\u001b[0m, in \u001b[0;36mget_last_year_crime_data\u001b[0;34m(address, shire, month)\u001b[0m\n\u001b[1;32m      3\u001b[0m df\u001b[38;5;241m=\u001b[39mpd\u001b[38;5;241m.\u001b[39mDataFrame()\n\u001b[1;32m      4\u001b[0m new_list\u001b[38;5;241m=\u001b[39m[]\n\u001b[0;32m----> 5\u001b[0m \u001b[38;5;28;01mfor\u001b[39;00m i \u001b[38;5;129;01min\u001b[39;00m \u001b[43mos\u001b[49m\u001b[38;5;241;43m.\u001b[39;49m\u001b[43mlistdir\u001b[49m\u001b[43m(\u001b[49m\u001b[43mdirectory\u001b[49m\u001b[43m)\u001b[49m:\n\u001b[1;32m      6\u001b[0m     new_list\u001b[38;5;241m.\u001b[39mappend(\u001b[38;5;28mint\u001b[39m(i\u001b[38;5;241m.\u001b[39mreplace(\u001b[38;5;124m'\u001b[39m\u001b[38;5;124m-\u001b[39m\u001b[38;5;124m'\u001b[39m,\u001b[38;5;124m'\u001b[39m\u001b[38;5;124m'\u001b[39m)))\n\u001b[1;32m      7\u001b[0m final_list\u001b[38;5;241m=\u001b[39m[]\n",
      "\u001b[0;31mFileNotFoundError\u001b[0m: [Errno 2] No such file or directory: 'data_references/crime_data/'"
     ]
    }
   ],
   "source": [
    "show_crime_objectives('west one plaza 2,sheffield,united kingdom',['cinema','gym','kebab'])"
   ]
  },
  {
   "cell_type": "code",
   "execution_count": null,
   "id": "08617172",
   "metadata": {},
   "outputs": [],
   "source": [
    "pd.options.display.max_colwidth=1000"
   ]
  },
  {
   "cell_type": "code",
   "execution_count": null,
   "id": "08724553",
   "metadata": {},
   "outputs": [],
   "source": [
    "def get_reviews_place(place_id):\n",
    "    gmaps = googlemaps.Client(key=api_lib.keys)\n",
    "    place = gmaps.place(place_id=place_id)\n",
    "    reviews=[]\n",
    "    rating=[]\n",
    "    for i in place['result']['reviews']:\n",
    "        reviews.append(i['text'])\n",
    "        rating.append(i['rating'])\n",
    "\n",
    "    df=pd.DataFrame({'reviews':reviews,'rating':rating})\n",
    "    return df"
   ]
  },
  {
   "cell_type": "code",
   "execution_count": null,
   "id": "14c569f2",
   "metadata": {},
   "outputs": [],
   "source": [
    "place_id='ChIJn0vbyG-BeUgRptOiG9uaXpg'"
   ]
  },
  {
   "cell_type": "code",
   "execution_count": null,
   "id": "566efc64",
   "metadata": {},
   "outputs": [],
   "source": [
    "def get_unlimited_reviews(place_id,review_number=10):\n",
    "    api_client = ApiClient(api_key=api_lib.fee_keys)\n",
    "    result = api_client.google_maps_reviews(place_id, reviewsLimit=review_number, language='en')\n",
    "    identity=[]\n",
    "    review_rating=[]\n",
    "    review=[]\n",
    "    for i in result[0]['reviews_data']:\n",
    "        identity.append(i['author_title'])\n",
    "        review_rating.append(i['review_rating'])\n",
    "        review.append(i['review_text'])\n",
    "    df=pd.DataFrame(data={'id':identity,'rating':review_rating,'review':review})\n",
    "    return df"
   ]
  },
  {
   "cell_type": "code",
   "execution_count": null,
   "id": "4e39092d",
   "metadata": {},
   "outputs": [],
   "source": [
    "\n",
    "\n",
    "'''!git add Untitled.ipynb\n",
    "!git commit -m 'updated parameters to search within certain months'\n",
    "!git push origin master'''"
   ]
  }
 ],
 "metadata": {
  "kernelspec": {
   "display_name": "Python 3 (ipykernel)",
   "language": "python",
   "name": "python3"
  },
  "language_info": {
   "codemirror_mode": {
    "name": "ipython",
    "version": 3
   },
   "file_extension": ".py",
   "mimetype": "text/x-python",
   "name": "python",
   "nbconvert_exporter": "python",
   "pygments_lexer": "ipython3",
   "version": "3.8.12"
  },
  "toc": {
   "base_numbering": 1,
   "nav_menu": {},
   "number_sections": true,
   "sideBar": true,
   "skip_h1_title": false,
   "title_cell": "Table of Contents",
   "title_sidebar": "Contents",
   "toc_cell": false,
   "toc_position": {},
   "toc_section_display": true,
   "toc_window_display": false
  }
 },
 "nbformat": 4,
 "nbformat_minor": 5
}
