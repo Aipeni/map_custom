{
 "cells": [
  {
   "cell_type": "markdown",
   "id": "3ebf7c18",
   "metadata": {},
   "source": [
    "## first try to play around with the google map api\n",
    "\n",
    "## objectives : create a map api that can extract information for living (eg  restaurant nearby/cinema/safety) within certain parameters\n",
    "\n",
    "### try to create a function that takes name/coordination and distances and visualize anything nearby\n",
    "#### get the information of nearby locations eg cinema,gym,restaurant ✓\n",
    "#### visualize  data on map ✓\n",
    "#### get safety indicator in the map ✓\n",
    "\n",
    "##### create a references of the safety of the objective area againist the entire city to see  if it is relatively dangous. I can do that by filling the distances of each crime spot and the objectives. And also update the crime spot so that it only provide crime spot of the certain area ✓\n",
    "\n",
    "#### add multiple interested location ✓\n",
    "\n",
    "### keep the api key safe ✓\n",
    "\n",
    "\n",
    "## alternative objectives \n",
    "### try scarp  reviews  and use NLP to analysis the review of the building\n",
    "### choose different ways to present safety? for example use formula to measure the color of the area?\n",
    "### get the area indication by radius?( eg when i put the lat,lng and radius it will shows the area around the lat,lng)\n",
    "### I have got the crime indicators working. the logic is to measure the crime within certain km and compare against the city centre, but maybe I can choose a better references?\n",
    "### also the crime data using here is static and I might need to update it soon\n",
    "### can I add a checker for others to screen the area that they might be interested to? maybe the easiest way to do this is to add a true false indicators so users can quickly scan their objectives?"
   ]
  },
  {
   "cell_type": "markdown",
   "id": "fd042c5f",
   "metadata": {},
   "source": [
    "Tech Issue to solve: \n",
    "1. git pull from 2 computer ignore all local changes ✓\n",
    "    >I need to stash it and drop it (\n",
    "    git stash\n",
    "    git stash drop\n",
    "    pnenv local )\n",
    "2. how to store the api key safely ✓  I added the api_key  in the gitignore  directory so the key will not be updated to github"
   ]
  },
  {
   "cell_type": "code",
   "execution_count": 1,
   "id": "ee9a117a",
   "metadata": {},
   "outputs": [],
   "source": [
    "import pandas as pd\n",
    "import time\n",
    "import googlemaps\n",
    "from datetime import datetime\n",
    "import raw_data.api_lib as api_lib\n",
    "import numpy as np"
   ]
  },
  {
   "cell_type": "code",
   "execution_count": 2,
   "id": "7322a852",
   "metadata": {},
   "outputs": [],
   "source": [
    "import os \n",
    "import folium\n",
    "from folium import plugins\n",
    "import rioxarray as rxr\n",
    "import earthpy as et\n",
    "import earthpy.spatial as es\n",
    "\n",
    "import geopy.distance\n",
    "\n"
   ]
  },
  {
   "cell_type": "code",
   "execution_count": 3,
   "id": "ae51464c",
   "metadata": {},
   "outputs": [],
   "source": [
    "def calculateDistance(x1,y1,x2,y2):\n",
    "    coords_1,coords_2=(x1,y1),(x2,y2)    \n",
    "    dist=geopy.distance.geodesic(coords_1, coords_2).km\n",
    "    return dist"
   ]
  },
  {
   "cell_type": "code",
   "execution_count": 4,
   "id": "d448cc7c",
   "metadata": {},
   "outputs": [],
   "source": [
    "def miles_to_meters(miles):\n",
    "    try:\n",
    "        return miles * 1_609.344\n",
    "    except:\n",
    "        return 0"
   ]
  },
  {
   "cell_type": "code",
   "execution_count": 5,
   "id": "3ea91664",
   "metadata": {},
   "outputs": [],
   "source": [
    "def get_lag_lng(address):\n",
    "    API_KEY = api_lib.keys\n",
    "    map_client = googlemaps.Client(API_KEY)\n",
    "\n",
    "    address = address\n",
    "    geocode = map_client.geocode(address=address)\n",
    "    (lat, lng) = map(geocode[0]['geometry']['location'].get, ('lat', 'lng'))\n",
    "    return lat,lng"
   ]
  },
  {
   "cell_type": "code",
   "execution_count": 6,
   "id": "0ab5b72b",
   "metadata": {},
   "outputs": [],
   "source": [
    "def get_nearby_objectives(address,objectives,radius):\n",
    "    API_KEY = api_lib.keys\n",
    "    map_client = googlemaps.Client(API_KEY)\n",
    "\n",
    "    address = address\n",
    "    geocode = map_client.geocode(address=address)\n",
    "    (lat, lng) = map(geocode[0]['geometry']['location'].get, ('lat', 'lng'))\n",
    "\n",
    "\n",
    "    search_string = objectives\n",
    "    distance = miles_to_meters(radius)\n",
    "    business_list = []\n",
    "\n",
    "    response = map_client.places_nearby(\n",
    "    location=(lat, lng),\n",
    "    keyword=search_string,\n",
    "    radius=distance\n",
    "    )   \n",
    "\n",
    "    business_list.extend(response.get('results'))\n",
    "    next_page_token = response.get('next_page_token')\n",
    "\n",
    "    while next_page_token:\n",
    "        time.sleep(2)\n",
    "        response = map_client.places_nearby(\n",
    "            location=(lat, lng),\n",
    "            keyword=search_string,\n",
    "            radius=distance,\n",
    "            page_token=next_page_token\n",
    "        )   \n",
    "        business_list.extend(response.get('results'))\n",
    "        next_page_token = response.get('next_page_token')\n",
    "\n",
    "    df = pd.DataFrame(business_list)\n",
    "    df['url'] = 'https://www.google.com/maps/place/?q=place_id:' + df['place_id']\n",
    "    return df"
   ]
  },
  {
   "cell_type": "code",
   "execution_count": 7,
   "id": "1928ec5e",
   "metadata": {},
   "outputs": [],
   "source": [
    "def show_address_on_map(address,zoom=30):\n",
    "    lat,lng=get_lag_lng(address)\n",
    "    m = folium.Map(location=[lat,lng],zoom_start=zoom)\n",
    "    folium.Marker(\n",
    "        location=[lat, lng], # coordinates for the marker (Earth Lab at CU Boulder)\n",
    "        popup='you are here', # pop-up label for the marker\n",
    "        icon=folium.Icon()\n",
    "    ).add_to(m)\n",
    "    return m"
   ]
  },
  {
   "cell_type": "code",
   "execution_count": 8,
   "id": "ed663537",
   "metadata": {},
   "outputs": [],
   "source": [
    "def get_clean_df(address):\n",
    "    df=pd.read_csv('data_references/2022-03-south-yorkshire-outcomes.csv')\n",
    "    df.dropna(axis=0,inplace=True)\n",
    "    lat,lng=get_lag_lng(address)\n",
    "    df['distances']=np.vectorize(calculateDistance)(lng,lat,df.Longitude,df.Latitude)\n",
    "    return df"
   ]
  },
  {
   "cell_type": "code",
   "execution_count": 9,
   "id": "4f5251c7",
   "metadata": {},
   "outputs": [],
   "source": [
    "def compare_against_references(address,references='city centre,sheffield,united kingdom',search_area=0.2):\n",
    "    df1=get_clean_df(address)\n",
    "    n_crime_address=df1[df1['distances']<search_area].nunique().distances\n",
    "    df2=get_clean_df(references)\n",
    "    n_crime_references=df2[df2['distances']<search_area].nunique().distances\n",
    "    print(f'number of crime around your address is :{n_crime_address} and the number of crime in the references area is :{n_crime_references}' )\n",
    "    return n_crime_address,n_crime_references"
   ]
  },
  {
   "cell_type": "code",
   "execution_count": null,
   "id": "0a90924c",
   "metadata": {},
   "outputs": [],
   "source": [
    "df=get_clean_df('west one plaza 2,Sheffield,United Kingdom')"
   ]
  },
  {
   "cell_type": "code",
   "execution_count": null,
   "id": "b1a0ecb8",
   "metadata": {},
   "outputs": [],
   "source": [
    "n1,n2=compare_against_references('west one plaza 2,Sheffield,United Kingdom')"
   ]
  },
  {
   "cell_type": "code",
   "execution_count": null,
   "id": "5f1b8091",
   "metadata": {},
   "outputs": [],
   "source": [
    "df[df['distances']<0.2].nunique().distances"
   ]
  },
  {
   "cell_type": "code",
   "execution_count": null,
   "id": "8aa4c8ad",
   "metadata": {},
   "outputs": [],
   "source": [
    "def show_crime(address,search_area=0.2):\n",
    "    incidents = folium.map.FeatureGroup()\n",
    "    map_shef=show_address_on_map(address,zoom=50)\n",
    "    df=get_clean_df(address)\n",
    "    df=df[df['distances']<search_area]\n",
    "    for lat, lng,distances,crime in zip(df.Latitude,df.Longitude,df.distances,df['Crime ID']):\n",
    "        incidents.add_child(\n",
    "        folium.features.CircleMarker(\n",
    "        [lat, lng],\n",
    "        radius=5, # define how big you want the circle markers to be\n",
    "        color='yellow',\n",
    "        popup=[distances,crime],\n",
    "        fill=True,\n",
    "        fill_color='blue',\n",
    "        fill_opacity=0.6\n",
    "        ))\n",
    "\n",
    "\n",
    "    return map_shef.add_child(incidents)"
   ]
  },
  {
   "cell_type": "code",
   "execution_count": null,
   "id": "5ae5b7d6",
   "metadata": {},
   "outputs": [],
   "source": [
    "df=get_nearby_objectives('west one plaza 2, sheffeld, United Kingdom','cinema',radius=5)"
   ]
  },
  {
   "cell_type": "code",
   "execution_count": null,
   "id": "712888f2",
   "metadata": {},
   "outputs": [],
   "source": [
    "def get_clean_data(address,objective,radius):\n",
    "    df=get_nearby_objectives(address,objective,radius)\n",
    "    def nearby_objectives_lat_lon(value):\n",
    "        lat=value['location']['lat']\n",
    "        lon=value['location']['lng']\n",
    "        return lat,lon\n",
    "\n",
    "    df['lat'],df['lon']=np.vectorize(nearby_objectives_lat_lon)(df['geometry'])\n",
    "    return df"
   ]
  },
  {
   "cell_type": "code",
   "execution_count": null,
   "id": "9d147b45",
   "metadata": {},
   "outputs": [],
   "source": [
    "df=get_clean_data('west one plaza 2,sheffield,united kingdom','cinema',5)"
   ]
  },
  {
   "cell_type": "code",
   "execution_count": null,
   "id": "62119b12",
   "metadata": {},
   "outputs": [],
   "source": [
    "df.head()"
   ]
  },
  {
   "cell_type": "code",
   "execution_count": null,
   "id": "97bcee07",
   "metadata": {},
   "outputs": [],
   "source": [
    "def show_crime_objectives(address,objectives,search_area=0.2):\n",
    "    incidents = folium.map.FeatureGroup()\n",
    "    map_shef=show_address_on_map(address,zoom=50)\n",
    "    df=get_clean_df(address)\n",
    "    df=df[df['distances']<search_area]\n",
    "    for lat, lng,distances,crime in zip(df.Latitude,df.Longitude,df.distances,df['Crime ID']):\n",
    "        incidents.add_child(\n",
    "        folium.features.CircleMarker(\n",
    "        [lat, lng],\n",
    "        radius=5, # define how big you want the circle markers to be\n",
    "        color='yellow',\n",
    "        popup=[distances,crime],\n",
    "        fill=True,\n",
    "        fill_color='blue',\n",
    "        fill_opacity=0.6\n",
    "        ))\n",
    "    df1=get_clean_data(address,objectives,5)\n",
    "    \n",
    "    for lat,lng,name in zip(df1.lat,df1.lon,df1.name):\n",
    "        incidents.add_child(\n",
    "        folium.features.CircleMarker(\n",
    "        [lat, lng],\n",
    "        radius=5, # define how big you want the circle markers to be\n",
    "        color='red',\n",
    "        popup=[name],\n",
    "        fill=True,\n",
    "        fill_color='yellow',\n",
    "        fill_opacity=0.6\n",
    "        ))\n",
    "\n",
    "    return map_shef.add_child(incidents)"
   ]
  },
  {
   "cell_type": "code",
   "execution_count": null,
   "id": "7d312a10",
   "metadata": {},
   "outputs": [],
   "source": [
    "show_crime_objectives('west one plaza 2,sheffield,united kingdom','cinema')"
   ]
  },
  {
   "cell_type": "code",
   "execution_count": null,
   "id": "4d257a5b",
   "metadata": {
    "scrolled": true
   },
   "outputs": [],
   "source": [
    "show_crime('city centre,sheffield,United Kingdom')"
   ]
  },
  {
   "cell_type": "code",
   "execution_count": null,
   "id": "4e39092d",
   "metadata": {},
   "outputs": [],
   "source": [
    "!git add Untitled.ipynb\n",
    "!git commit -m 'updated objectives'\n",
    "!git push origin master"
   ]
  }
 ],
 "metadata": {
  "kernelspec": {
   "display_name": "Python 3 (ipykernel)",
   "language": "python",
   "name": "python3"
  },
  "language_info": {
   "codemirror_mode": {
    "name": "ipython",
    "version": 3
   },
   "file_extension": ".py",
   "mimetype": "text/x-python",
   "name": "python",
   "nbconvert_exporter": "python",
   "pygments_lexer": "ipython3",
   "version": "3.8.12"
  },
  "toc": {
   "base_numbering": 1,
   "nav_menu": {},
   "number_sections": true,
   "sideBar": true,
   "skip_h1_title": false,
   "title_cell": "Table of Contents",
   "title_sidebar": "Contents",
   "toc_cell": false,
   "toc_position": {},
   "toc_section_display": true,
   "toc_window_display": false
  }
 },
 "nbformat": 4,
 "nbformat_minor": 5
}
