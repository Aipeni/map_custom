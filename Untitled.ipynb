{
 "cells": [
  {
   "cell_type": "markdown",
   "id": "3ebf7c18",
   "metadata": {},
   "source": [
    "## first try to play around with the google map api\n",
    "\n",
    "## objectives : create a map api that can extract information for living (eg  restaurant nearby/cinema/safety) within certain parameters\n",
    "\n",
    "### try to create a function that takes name/coordination and distances and visualize anything nearby\n",
    "\n",
    "### keep the api key safe\n",
    "\n",
    "\n",
    "## alternative objectives try scarp  reviews  and use NLP to analysis the review of the building"
   ]
  },
  {
   "cell_type": "code",
   "execution_count": 1,
   "id": "ee9a117a",
   "metadata": {},
   "outputs": [],
   "source": [
    "import pandas as pd\n",
    "import time\n",
    "import googlemaps\n",
    "from datetime import datetime"
   ]
  }
 ],
 "metadata": {
  "kernelspec": {
   "display_name": "Python 3 (ipykernel)",
   "language": "python",
   "name": "python3"
  },
  "language_info": {
   "codemirror_mode": {
    "name": "ipython",
    "version": 3
   },
   "file_extension": ".py",
   "mimetype": "text/x-python",
   "name": "python",
   "nbconvert_exporter": "python",
   "pygments_lexer": "ipython3",
   "version": "3.8.12"
  },
  "toc": {
   "base_numbering": 1,
   "nav_menu": {},
   "number_sections": true,
   "sideBar": true,
   "skip_h1_title": false,
   "title_cell": "Table of Contents",
   "title_sidebar": "Contents",
   "toc_cell": false,
   "toc_position": {},
   "toc_section_display": true,
   "toc_window_display": false
  }
 },
 "nbformat": 4,
 "nbformat_minor": 5
}
