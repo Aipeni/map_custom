{
 "cells": [
  {
   "cell_type": "markdown",
   "id": "3ebf7c18",
   "metadata": {},
   "source": [
    "## first try to play around with the google map api\n",
    "\n",
    "## objectives : create a map api that can extract information for living (eg  restaurant nearby/cinema/safety) within certain parameters\n",
    "\n",
    "### try to create a function that takes name/coordination and distances and visualize anything nearby\n",
    "#### get the information of nearby location eg cinema,gym,restaurant ✓\n",
    "#### visualize the data on map ✓\n",
    "#### get safety indicator in the map ✓\n",
    "\n",
    "##### create a references of the safety of the objective area againist the entire city to see  if it is relatively dangous. I can do that by filling the distances of each crime spot and the objectives. And also update the crime spot so that it only provide crime spot of the certain area ✓\n",
    "\n",
    "#### add multiple interested location\n",
    "\n",
    "### keep the api key safe\n",
    "\n",
    "\n",
    "## alternative objectives \n",
    "### try scarp  reviews  and use NLP to analysis the review of the building\n",
    "### choose different ways to present safety? for example use formula to measure the color of the area?\n",
    "### get the area indication by radius?( eg when i put the lat,lng and radius it will shows the area around the lat,lng)\n",
    "### I have got the crime indicators working. the logic is to measure the crime within certain km and compare against the city centre, but maybe I can choose a better references?\n",
    "### also the crime data using here is static and I might need to update it soon\n",
    "### can I add a checker for others to screen the area that they might be interested to? maybe the easiest way to do this is to add a true false indicators so users can quickly scan their objectives?"
   ]
  },
  {
   "cell_type": "code",
   "execution_count": 1,
   "id": "ee9a117a",
   "metadata": {},
   "outputs": [],
   "source": [
    "import pandas as pd\n",
    "import time\n",
    "import googlemaps\n",
    "from datetime import datetime\n",
    "import api_lib\n",
    "import numpy as np"
   ]
  },
  {
   "cell_type": "code",
   "execution_count": 2,
   "id": "7322a852",
   "metadata": {},
   "outputs": [],
   "source": [
    "import os \n",
    "import folium\n",
    "from folium import plugins\n",
    "import rioxarray as rxr\n",
    "import earthpy as et\n",
    "import earthpy.spatial as es\n",
    "\n",
    "import geopy.distance\n",
    "\n"
   ]
  },
  {
   "cell_type": "code",
   "execution_count": 3,
   "id": "ae51464c",
   "metadata": {},
   "outputs": [],
   "source": [
    "def calculateDistance(x1,y1,x2,y2):\n",
    "    coords_1,coords_2=(x1,y1),(x2,y2)    \n",
    "    dist=geopy.distance.geodesic(coords_1, coords_2).km\n",
    "    return dist"
   ]
  },
  {
   "cell_type": "code",
   "execution_count": 4,
   "id": "d448cc7c",
   "metadata": {},
   "outputs": [],
   "source": [
    "def miles_to_meters(miles):\n",
    "    try:\n",
    "        return miles * 1_609.344\n",
    "    except:\n",
    "        return 0"
   ]
  },
  {
   "cell_type": "code",
   "execution_count": 5,
   "id": "3ea91664",
   "metadata": {},
   "outputs": [],
   "source": [
    "def get_lag_lng(address):\n",
    "    API_KEY = api_lib.keys\n",
    "    map_client = googlemaps.Client(API_KEY)\n",
    "\n",
    "    address = address\n",
    "    geocode = map_client.geocode(address=address)\n",
    "    (lat, lng) = map(geocode[0]['geometry']['location'].get, ('lat', 'lng'))\n",
    "    return lat,lng"
   ]
  },
  {
   "cell_type": "code",
   "execution_count": 6,
   "id": "0ab5b72b",
   "metadata": {},
   "outputs": [],
   "source": [
    "def get_nearby_objectives(address,objectives,radius):\n",
    "    API_KEY = api_lib.keys\n",
    "    map_client = googlemaps.Client(API_KEY)\n",
    "\n",
    "    address = address\n",
    "    geocode = map_client.geocode(address=address)\n",
    "    (lat, lng) = map(geocode[0]['geometry']['location'].get, ('lat', 'lng'))\n",
    "\n",
    "\n",
    "    search_string = objectives\n",
    "    distance = miles_to_meters(radius)\n",
    "    business_list = []\n",
    "\n",
    "    response = map_client.places_nearby(\n",
    "    location=(lat, lng),\n",
    "    keyword=search_string,\n",
    "    radius=distance\n",
    "    )   \n",
    "\n",
    "    business_list.extend(response.get('results'))\n",
    "    next_page_token = response.get('next_page_token')\n",
    "\n",
    "    while next_page_token:\n",
    "        time.sleep(2)\n",
    "        response = map_client.places_nearby(\n",
    "            location=(lat, lng),\n",
    "            keyword=search_string,\n",
    "            radius=distance,\n",
    "            page_token=next_page_token\n",
    "        )   \n",
    "        business_list.extend(response.get('results'))\n",
    "        next_page_token = response.get('next_page_token')\n",
    "\n",
    "    df = pd.DataFrame(business_list)\n",
    "    df['url'] = 'https://www.google.com/maps/place/?q=place_id:' + df['place_id']\n",
    "    return df"
   ]
  },
  {
   "cell_type": "code",
   "execution_count": 7,
   "id": "1928ec5e",
   "metadata": {},
   "outputs": [],
   "source": [
    "def show_address_on_map(address,zoom=30):\n",
    "    lat,lng=get_lag_lng(address)\n",
    "    m = folium.Map(location=[lat,lng],zoom_start=zoom)\n",
    "    folium.Marker(\n",
    "        location=[lat, lng], # coordinates for the marker (Earth Lab at CU Boulder)\n",
    "        popup='you are here', # pop-up label for the marker\n",
    "        icon=folium.Icon()\n",
    "    ).add_to(m)\n",
    "    return m"
   ]
  },
  {
   "cell_type": "code",
   "execution_count": 8,
   "id": "ed663537",
   "metadata": {},
   "outputs": [],
   "source": [
    "def get_clean_df(address):\n",
    "    df=pd.read_csv('data_references/2022-03-south-yorkshire-outcomes.csv')\n",
    "    df.dropna(axis=0,inplace=True)\n",
    "    lat,lng=get_lag_lng(address)\n",
    "    df['distances']=np.vectorize(calculateDistance)(lng,lat,df.Longitude,df.Latitude)\n",
    "    return df"
   ]
  },
  {
   "cell_type": "code",
   "execution_count": 9,
   "id": "4f5251c7",
   "metadata": {},
   "outputs": [],
   "source": [
    "def compare_against_references(address,references='city centre,sheffield,united kingdom',search_area=0.2):\n",
    "    df1=get_clean_df(address)\n",
    "    n_crime_address=df1[df1['distances']<search_area].nunique().distances\n",
    "    df2=get_clean_df(references)\n",
    "    n_crime_references=df2[df2['distances']<search_area].nunique().distances\n",
    "    print(f'number of crime around your address is :{n_crime_address} and the number of crime in the references area is :{n_crime_references}' )\n",
    "    return n_crime_address,n_crime_references"
   ]
  },
  {
   "cell_type": "code",
   "execution_count": 11,
   "id": "0a90924c",
   "metadata": {},
   "outputs": [
    {
     "ename": "ValueError",
     "evalue": "Invalid API key provided.",
     "output_type": "error",
     "traceback": [
      "\u001b[0;31m---------------------------------------------------------------------------\u001b[0m",
      "\u001b[0;31mValueError\u001b[0m                                Traceback (most recent call last)",
      "Input \u001b[0;32mIn [11]\u001b[0m, in \u001b[0;36m<cell line: 1>\u001b[0;34m()\u001b[0m\n\u001b[0;32m----> 1\u001b[0m df\u001b[38;5;241m=\u001b[39m\u001b[43mget_clean_df\u001b[49m\u001b[43m(\u001b[49m\u001b[38;5;124;43m'\u001b[39;49m\u001b[38;5;124;43mwest one plaza 2,Sheffield,United Kingdom\u001b[39;49m\u001b[38;5;124;43m'\u001b[39;49m\u001b[43m)\u001b[49m\n",
      "Input \u001b[0;32mIn [8]\u001b[0m, in \u001b[0;36mget_clean_df\u001b[0;34m(address)\u001b[0m\n\u001b[1;32m      2\u001b[0m df\u001b[38;5;241m=\u001b[39mpd\u001b[38;5;241m.\u001b[39mread_csv(\u001b[38;5;124m'\u001b[39m\u001b[38;5;124mdata_references/2022-03-south-yorkshire-outcomes.csv\u001b[39m\u001b[38;5;124m'\u001b[39m)\n\u001b[1;32m      3\u001b[0m df\u001b[38;5;241m.\u001b[39mdropna(axis\u001b[38;5;241m=\u001b[39m\u001b[38;5;241m0\u001b[39m,inplace\u001b[38;5;241m=\u001b[39m\u001b[38;5;28;01mTrue\u001b[39;00m)\n\u001b[0;32m----> 4\u001b[0m lat,lng\u001b[38;5;241m=\u001b[39m\u001b[43mget_lag_lng\u001b[49m\u001b[43m(\u001b[49m\u001b[43maddress\u001b[49m\u001b[43m)\u001b[49m\n\u001b[1;32m      5\u001b[0m df[\u001b[38;5;124m'\u001b[39m\u001b[38;5;124mdistances\u001b[39m\u001b[38;5;124m'\u001b[39m]\u001b[38;5;241m=\u001b[39mnp\u001b[38;5;241m.\u001b[39mvectorize(calculateDistance)(lng,lat,df\u001b[38;5;241m.\u001b[39mLongitude,df\u001b[38;5;241m.\u001b[39mLatitude)\n\u001b[1;32m      6\u001b[0m \u001b[38;5;28;01mreturn\u001b[39;00m df\n",
      "Input \u001b[0;32mIn [5]\u001b[0m, in \u001b[0;36mget_lag_lng\u001b[0;34m(address)\u001b[0m\n\u001b[1;32m      1\u001b[0m \u001b[38;5;28;01mdef\u001b[39;00m \u001b[38;5;21mget_lag_lng\u001b[39m(address):\n\u001b[1;32m      2\u001b[0m     API_KEY \u001b[38;5;241m=\u001b[39m api_lib\u001b[38;5;241m.\u001b[39mkeys\n\u001b[0;32m----> 3\u001b[0m     map_client \u001b[38;5;241m=\u001b[39m \u001b[43mgooglemaps\u001b[49m\u001b[38;5;241;43m.\u001b[39;49m\u001b[43mClient\u001b[49m\u001b[43m(\u001b[49m\u001b[43mAPI_KEY\u001b[49m\u001b[43m)\u001b[49m\n\u001b[1;32m      5\u001b[0m     address \u001b[38;5;241m=\u001b[39m address\n\u001b[1;32m      6\u001b[0m     geocode \u001b[38;5;241m=\u001b[39m map_client\u001b[38;5;241m.\u001b[39mgeocode(address\u001b[38;5;241m=\u001b[39maddress)\n",
      "File \u001b[0;32m~/.pyenv/versions/3.8.12/envs/map_custom/lib/python3.8/site-packages/googlemaps/client.py:134\u001b[0m, in \u001b[0;36mClient.__init__\u001b[0;34m(self, key, client_id, client_secret, timeout, connect_timeout, read_timeout, retry_timeout, requests_kwargs, queries_per_second, channel, retry_over_query_limit, experience_id, requests_session, base_url)\u001b[0m\n\u001b[1;32m    130\u001b[0m     \u001b[38;5;28;01mraise\u001b[39;00m \u001b[38;5;167;01mValueError\u001b[39;00m(\u001b[38;5;124m\"\u001b[39m\u001b[38;5;124mMust provide API key or enterprise credentials \u001b[39m\u001b[38;5;124m\"\u001b[39m\n\u001b[1;32m    131\u001b[0m                      \u001b[38;5;124m\"\u001b[39m\u001b[38;5;124mwhen creating client.\u001b[39m\u001b[38;5;124m\"\u001b[39m)\n\u001b[1;32m    133\u001b[0m \u001b[38;5;28;01mif\u001b[39;00m key \u001b[38;5;129;01mand\u001b[39;00m \u001b[38;5;129;01mnot\u001b[39;00m key\u001b[38;5;241m.\u001b[39mstartswith(\u001b[38;5;124m\"\u001b[39m\u001b[38;5;124mAIza\u001b[39m\u001b[38;5;124m\"\u001b[39m):\n\u001b[0;32m--> 134\u001b[0m     \u001b[38;5;28;01mraise\u001b[39;00m \u001b[38;5;167;01mValueError\u001b[39;00m(\u001b[38;5;124m\"\u001b[39m\u001b[38;5;124mInvalid API key provided.\u001b[39m\u001b[38;5;124m\"\u001b[39m)\n\u001b[1;32m    136\u001b[0m \u001b[38;5;28;01mif\u001b[39;00m channel:\n\u001b[1;32m    137\u001b[0m     \u001b[38;5;28;01mif\u001b[39;00m \u001b[38;5;129;01mnot\u001b[39;00m re\u001b[38;5;241m.\u001b[39mmatch(\u001b[38;5;124m\"\u001b[39m\u001b[38;5;124m^[a-zA-Z0-9._-]*$\u001b[39m\u001b[38;5;124m\"\u001b[39m, channel):\n",
      "\u001b[0;31mValueError\u001b[0m: Invalid API key provided."
     ]
    }
   ],
   "source": [
    "df=get_clean_df('west one plaza 2,Sheffield,United Kingdom')"
   ]
  },
  {
   "cell_type": "code",
   "execution_count": null,
   "id": "b1a0ecb8",
   "metadata": {},
   "outputs": [],
   "source": [
    "n1,n2=compare_against_references('west one plaza 2,Sheffield,United Kingdom')"
   ]
  },
  {
   "cell_type": "code",
   "execution_count": null,
   "id": "5f1b8091",
   "metadata": {},
   "outputs": [],
   "source": [
    "df[df['distances']<0.2].nunique().distances"
   ]
  },
  {
   "cell_type": "code",
   "execution_count": null,
   "id": "8aa4c8ad",
   "metadata": {},
   "outputs": [],
   "source": [
    "def show_crime(address,search_area=0.2):\n",
    "    incidents = folium.map.FeatureGroup()\n",
    "    map_shef=show_address_on_map(address,zoom=50)\n",
    "    df=get_clean_df(address)\n",
    "    df=df[df['distances']<search_area]\n",
    "    for lat, lng,distances,crime in zip(df.Latitude,df.Longitude,df.distances,df['Crime ID']):\n",
    "        incidents.add_child(\n",
    "        folium.features.CircleMarker(\n",
    "        [lat, lng],\n",
    "        radius=5, # define how big you want the circle markers to be\n",
    "        color='yellow',\n",
    "        popup=[distances,crime],\n",
    "        fill=True,\n",
    "        fill_color='blue',\n",
    "        fill_opacity=0.6\n",
    "        ))\n",
    "\n",
    "    return map_shef.add_child(incidents)"
   ]
  },
  {
   "cell_type": "code",
   "execution_count": null,
   "id": "5ae5b7d6",
   "metadata": {},
   "outputs": [],
   "source": [
    "df=get_nearby_objectives('west one plaza 2, sheffeld, United Kingdom','cinema',radius=5)"
   ]
  },
  {
   "cell_type": "code",
   "execution_count": null,
   "id": "0315f2fe",
   "metadata": {},
   "outputs": [],
   "source": [
    "df.geometry"
   ]
  },
  {
   "cell_type": "code",
   "execution_count": null,
   "id": "712888f2",
   "metadata": {},
   "outputs": [],
   "source": [
    "def get_clean_data(address,objective,radius):\n",
    "    df=get_nearby_objectives(address,objective,radius)\n",
    "    def nearby_objectives_lat_lon(value):\n",
    "        lat=value['location']['lat']\n",
    "        lon=value['location']['lng']\n",
    "        return lat,lon\n",
    "\n",
    "    df['lat'],df['lon']=np.vectorize(nearby_objectives_lat_lon)(df['geometry'])\n",
    "    return df"
   ]
  },
  {
   "cell_type": "code",
   "execution_count": null,
   "id": "9d147b45",
   "metadata": {},
   "outputs": [],
   "source": [
    "df=get_clean_data('west one plaza 2,sheffield,united kingdom','cinema',5)"
   ]
  },
  {
   "cell_type": "code",
   "execution_count": null,
   "id": "72c63b5e",
   "metadata": {},
   "outputs": [],
   "source": [
    "incidents = folium.map.FeatureGroup()\n",
    "map_shef=show_address_on_map('west one plaza 2,sheffield,united kingdom',zoom=50)\n",
    "df=get_clean_data('west one plaza 2,sheffield,united kingdom','cinema',5)\n",
    "for lat, lng,name in zip(df.lat,df.lon,df.name):\n",
    "    incidents.add_child(\n",
    "    folium.features.CircleMarker(\n",
    "    [lat, lng],\n",
    "    radius=5, # define how big you want the circle markers to be\n",
    "    color='yellow',\n",
    "    popup=[name],\n",
    "    fill=True,\n",
    "    fill_color='blue',\n",
    "    fill_opacity=0.6\n",
    "    ))"
   ]
  },
  {
   "cell_type": "code",
   "execution_count": null,
   "id": "7d312a10",
   "metadata": {},
   "outputs": [],
   "source": [
    "map_shef.add_child(incidents)"
   ]
  },
  {
   "cell_type": "code",
   "execution_count": null,
   "id": "4d257a5b",
   "metadata": {
    "scrolled": true
   },
   "outputs": [],
   "source": [
    "show_crime('city centre,sheffield,United Kingdom')"
   ]
  },
  {
   "cell_type": "code",
   "execution_count": null,
   "id": "4e39092d",
   "metadata": {},
   "outputs": [],
   "source": [
    "!git add Untitled.ipynb\n",
    "!git commit -m 'solved the distances issue and updated objectives'\n",
    "!git push origin master"
   ]
  }
 ],
 "metadata": {
  "kernelspec": {
   "display_name": "Python 3 (ipykernel)",
   "language": "python",
   "name": "python3"
  },
  "language_info": {
   "codemirror_mode": {
    "name": "ipython",
    "version": 3
   },
   "file_extension": ".py",
   "mimetype": "text/x-python",
   "name": "python",
   "nbconvert_exporter": "python",
   "pygments_lexer": "ipython3",
   "version": "3.8.12"
  },
  "toc": {
   "base_numbering": 1,
   "nav_menu": {},
   "number_sections": true,
   "sideBar": true,
   "skip_h1_title": false,
   "title_cell": "Table of Contents",
   "title_sidebar": "Contents",
   "toc_cell": false,
   "toc_position": {},
   "toc_section_display": true,
   "toc_window_display": false
  }
 },
 "nbformat": 4,
 "nbformat_minor": 5
}
